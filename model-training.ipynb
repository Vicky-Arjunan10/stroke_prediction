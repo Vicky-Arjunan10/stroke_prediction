{
 "cells": [
  {
   "cell_type": "code",
   "id": "initial_id",
   "metadata": {
    "collapsed": true,
    "ExecuteTime": {
     "end_time": "2024-09-19T20:40:07.859062Z",
     "start_time": "2024-09-19T20:40:06.387082Z"
    }
   },
   "source": [
    "import pandas as pd\n",
    "from sklearn.preprocessing import StandardScaler, LabelEncoder\n",
    "from sklearn.model_selection import train_test_split\n",
    "from sklearn.linear_model import LogisticRegression\n",
    "from sklearn.metrics import accuracy_score, confusion_matrix, classification_report"
   ],
   "outputs": [],
   "execution_count": 1
  },
  {
   "metadata": {},
   "cell_type": "markdown",
   "source": "",
   "id": "dfa3c6b6421e1a8a"
  },
  {
   "metadata": {
    "ExecuteTime": {
     "end_time": "2024-09-19T20:40:07.895600Z",
     "start_time": "2024-09-19T20:40:07.877120Z"
    }
   },
   "cell_type": "code",
   "source": [
    "file_path = (r'C:\\Users\\vaish\\Downloads\\healthcare-heart-stroke-dataset1.csv')\n",
    "df = pd.read_csv(file_path)"
   ],
   "id": "76637a3ebcd2cd34",
   "outputs": [],
   "execution_count": 2
  },
  {
   "metadata": {
    "ExecuteTime": {
     "end_time": "2024-09-19T20:40:08.483678Z",
     "start_time": "2024-09-19T20:40:08.465868Z"
    }
   },
   "cell_type": "code",
   "source": "df.head()",
   "id": "800d0d78b622b1f3",
   "outputs": [
    {
     "data": {
      "text/plain": [
       "   gender   age  hypertension  diseases  glucose   bmi  stroke\n",
       "0    Male  58.0             1         0   170.34  50.0       1\n",
       "1  Female  75.0             1         0   170.34  50.0       1\n",
       "2    Male  78.0             1         0   170.34  50.0       1\n",
       "3  Female  64.0             1         0   170.34  39.2       1\n",
       "4    Male  58.0             1         0   170.34  50.0       1"
      ],
      "text/html": [
       "<div>\n",
       "<style scoped>\n",
       "    .dataframe tbody tr th:only-of-type {\n",
       "        vertical-align: middle;\n",
       "    }\n",
       "\n",
       "    .dataframe tbody tr th {\n",
       "        vertical-align: top;\n",
       "    }\n",
       "\n",
       "    .dataframe thead th {\n",
       "        text-align: right;\n",
       "    }\n",
       "</style>\n",
       "<table border=\"1\" class=\"dataframe\">\n",
       "  <thead>\n",
       "    <tr style=\"text-align: right;\">\n",
       "      <th></th>\n",
       "      <th>gender</th>\n",
       "      <th>age</th>\n",
       "      <th>hypertension</th>\n",
       "      <th>diseases</th>\n",
       "      <th>glucose</th>\n",
       "      <th>bmi</th>\n",
       "      <th>stroke</th>\n",
       "    </tr>\n",
       "  </thead>\n",
       "  <tbody>\n",
       "    <tr>\n",
       "      <th>0</th>\n",
       "      <td>Male</td>\n",
       "      <td>58.0</td>\n",
       "      <td>1</td>\n",
       "      <td>0</td>\n",
       "      <td>170.34</td>\n",
       "      <td>50.0</td>\n",
       "      <td>1</td>\n",
       "    </tr>\n",
       "    <tr>\n",
       "      <th>1</th>\n",
       "      <td>Female</td>\n",
       "      <td>75.0</td>\n",
       "      <td>1</td>\n",
       "      <td>0</td>\n",
       "      <td>170.34</td>\n",
       "      <td>50.0</td>\n",
       "      <td>1</td>\n",
       "    </tr>\n",
       "    <tr>\n",
       "      <th>2</th>\n",
       "      <td>Male</td>\n",
       "      <td>78.0</td>\n",
       "      <td>1</td>\n",
       "      <td>0</td>\n",
       "      <td>170.34</td>\n",
       "      <td>50.0</td>\n",
       "      <td>1</td>\n",
       "    </tr>\n",
       "    <tr>\n",
       "      <th>3</th>\n",
       "      <td>Female</td>\n",
       "      <td>64.0</td>\n",
       "      <td>1</td>\n",
       "      <td>0</td>\n",
       "      <td>170.34</td>\n",
       "      <td>39.2</td>\n",
       "      <td>1</td>\n",
       "    </tr>\n",
       "    <tr>\n",
       "      <th>4</th>\n",
       "      <td>Male</td>\n",
       "      <td>58.0</td>\n",
       "      <td>1</td>\n",
       "      <td>0</td>\n",
       "      <td>170.34</td>\n",
       "      <td>50.0</td>\n",
       "      <td>1</td>\n",
       "    </tr>\n",
       "  </tbody>\n",
       "</table>\n",
       "</div>"
      ]
     },
     "execution_count": 4,
     "metadata": {},
     "output_type": "execute_result"
    }
   ],
   "execution_count": 4
  },
  {
   "metadata": {
    "ExecuteTime": {
     "end_time": "2024-09-19T20:40:08.613165Z",
     "start_time": "2024-09-19T20:40:08.582179Z"
    }
   },
   "cell_type": "code",
   "source": "df.info()",
   "id": "e04ba81118ce04c0",
   "outputs": [
    {
     "name": "stdout",
     "output_type": "stream",
     "text": [
      "<class 'pandas.core.frame.DataFrame'>\n",
      "RangeIndex: 5110 entries, 0 to 5109\n",
      "Data columns (total 7 columns):\n",
      " #   Column        Non-Null Count  Dtype  \n",
      "---  ------        --------------  -----  \n",
      " 0   gender        5110 non-null   object \n",
      " 1   age           5110 non-null   float64\n",
      " 2   hypertension  5110 non-null   int64  \n",
      " 3   diseases      5110 non-null   int64  \n",
      " 4   glucose       5110 non-null   float64\n",
      " 5   bmi           5110 non-null   float64\n",
      " 6   stroke        5110 non-null   int64  \n",
      "dtypes: float64(3), int64(3), object(1)\n",
      "memory usage: 279.6+ KB\n"
     ]
    }
   ],
   "execution_count": 5
  },
  {
   "metadata": {
    "ExecuteTime": {
     "end_time": "2024-09-19T20:40:08.802386Z",
     "start_time": "2024-09-19T20:40:08.794870Z"
    }
   },
   "cell_type": "code",
   "source": "df.isnull().sum()",
   "id": "34db7a36c1b11194",
   "outputs": [
    {
     "data": {
      "text/plain": [
       "gender          0\n",
       "age             0\n",
       "hypertension    0\n",
       "diseases        0\n",
       "glucose         0\n",
       "bmi             0\n",
       "stroke          0\n",
       "dtype: int64"
      ]
     },
     "execution_count": 6,
     "metadata": {},
     "output_type": "execute_result"
    }
   ],
   "execution_count": 6
  },
  {
   "metadata": {
    "ExecuteTime": {
     "end_time": "2024-09-19T20:40:16.228202Z",
     "start_time": "2024-09-19T20:40:16.214663Z"
    }
   },
   "cell_type": "code",
   "source": [
    "df['bmi'] = df['bmi'].fillna(df['bmi'].mean())\n",
    "le = LabelEncoder()\n",
    "df['gender'] = le.fit_transform(df['gender'])"
   ],
   "id": "cbdd39720d1cc507",
   "outputs": [],
   "execution_count": 7
  },
  {
   "metadata": {
    "ExecuteTime": {
     "end_time": "2024-09-19T20:40:16.967269Z",
     "start_time": "2024-09-19T20:40:16.956515Z"
    }
   },
   "cell_type": "code",
   "source": [
    "\n",
    "df.head()"
   ],
   "id": "ca1a658ec60bd689",
   "outputs": [
    {
     "data": {
      "text/plain": [
       "   gender   age  hypertension  diseases  glucose   bmi  stroke\n",
       "0       1  58.0             1         0   170.34  50.0       1\n",
       "1       0  75.0             1         0   170.34  50.0       1\n",
       "2       1  78.0             1         0   170.34  50.0       1\n",
       "3       0  64.0             1         0   170.34  39.2       1\n",
       "4       1  58.0             1         0   170.34  50.0       1"
      ],
      "text/html": [
       "<div>\n",
       "<style scoped>\n",
       "    .dataframe tbody tr th:only-of-type {\n",
       "        vertical-align: middle;\n",
       "    }\n",
       "\n",
       "    .dataframe tbody tr th {\n",
       "        vertical-align: top;\n",
       "    }\n",
       "\n",
       "    .dataframe thead th {\n",
       "        text-align: right;\n",
       "    }\n",
       "</style>\n",
       "<table border=\"1\" class=\"dataframe\">\n",
       "  <thead>\n",
       "    <tr style=\"text-align: right;\">\n",
       "      <th></th>\n",
       "      <th>gender</th>\n",
       "      <th>age</th>\n",
       "      <th>hypertension</th>\n",
       "      <th>diseases</th>\n",
       "      <th>glucose</th>\n",
       "      <th>bmi</th>\n",
       "      <th>stroke</th>\n",
       "    </tr>\n",
       "  </thead>\n",
       "  <tbody>\n",
       "    <tr>\n",
       "      <th>0</th>\n",
       "      <td>1</td>\n",
       "      <td>58.0</td>\n",
       "      <td>1</td>\n",
       "      <td>0</td>\n",
       "      <td>170.34</td>\n",
       "      <td>50.0</td>\n",
       "      <td>1</td>\n",
       "    </tr>\n",
       "    <tr>\n",
       "      <th>1</th>\n",
       "      <td>0</td>\n",
       "      <td>75.0</td>\n",
       "      <td>1</td>\n",
       "      <td>0</td>\n",
       "      <td>170.34</td>\n",
       "      <td>50.0</td>\n",
       "      <td>1</td>\n",
       "    </tr>\n",
       "    <tr>\n",
       "      <th>2</th>\n",
       "      <td>1</td>\n",
       "      <td>78.0</td>\n",
       "      <td>1</td>\n",
       "      <td>0</td>\n",
       "      <td>170.34</td>\n",
       "      <td>50.0</td>\n",
       "      <td>1</td>\n",
       "    </tr>\n",
       "    <tr>\n",
       "      <th>3</th>\n",
       "      <td>0</td>\n",
       "      <td>64.0</td>\n",
       "      <td>1</td>\n",
       "      <td>0</td>\n",
       "      <td>170.34</td>\n",
       "      <td>39.2</td>\n",
       "      <td>1</td>\n",
       "    </tr>\n",
       "    <tr>\n",
       "      <th>4</th>\n",
       "      <td>1</td>\n",
       "      <td>58.0</td>\n",
       "      <td>1</td>\n",
       "      <td>0</td>\n",
       "      <td>170.34</td>\n",
       "      <td>50.0</td>\n",
       "      <td>1</td>\n",
       "    </tr>\n",
       "  </tbody>\n",
       "</table>\n",
       "</div>"
      ]
     },
     "execution_count": 8,
     "metadata": {},
     "output_type": "execute_result"
    }
   ],
   "execution_count": 8
  },
  {
   "metadata": {
    "ExecuteTime": {
     "end_time": "2024-09-19T20:40:17.546814Z",
     "start_time": "2024-09-19T20:40:17.540649Z"
    }
   },
   "cell_type": "code",
   "source": [
    "X = df.drop('stroke', axis=1)\n",
    "y = df['stroke']"
   ],
   "id": "3782b40d0b998513",
   "outputs": [],
   "execution_count": 9
  },
  {
   "metadata": {
    "ExecuteTime": {
     "end_time": "2024-09-19T20:40:18.360107Z",
     "start_time": "2024-09-19T20:40:18.344706Z"
    }
   },
   "cell_type": "code",
   "source": "X_train, X_test, y_train, y_test = train_test_split(X, y, test_size=0.2, random_state=42)",
   "id": "18c81c9fad56014f",
   "outputs": [],
   "execution_count": 10
  },
  {
   "metadata": {
    "ExecuteTime": {
     "end_time": "2024-09-19T20:40:19.029500Z",
     "start_time": "2024-09-19T20:40:19.023203Z"
    }
   },
   "cell_type": "code",
   "source": [
    "print(\"X_train shape:\", X_train.shape)\n",
    "print(\"X_test shape:\", X_test.shape)"
   ],
   "id": "66f5ed41435ef31f",
   "outputs": [
    {
     "name": "stdout",
     "output_type": "stream",
     "text": [
      "X_train shape: (4088, 6)\n",
      "X_test shape: (1022, 6)\n"
     ]
    }
   ],
   "execution_count": 11
  },
  {
   "metadata": {
    "ExecuteTime": {
     "end_time": "2024-09-19T20:40:19.774363Z",
     "start_time": "2024-09-19T20:40:19.756942Z"
    }
   },
   "cell_type": "code",
   "source": [
    "scaler = StandardScaler()\n",
    "X_train_scaled = scaler.fit_transform(X_train)\n",
    "X_test_scaled = scaler.transform(X_test)  "
   ],
   "id": "4f4c3a6e0312c6cc",
   "outputs": [],
   "execution_count": 12
  },
  {
   "metadata": {
    "ExecuteTime": {
     "end_time": "2024-09-19T20:40:20.607839Z",
     "start_time": "2024-09-19T20:40:20.603422Z"
    }
   },
   "cell_type": "code",
   "source": "",
   "id": "f20f0375220a32b0",
   "outputs": [],
   "execution_count": null
  },
  {
   "metadata": {
    "ExecuteTime": {
     "end_time": "2024-09-19T20:40:21.433594Z",
     "start_time": "2024-09-19T20:40:21.394462Z"
    }
   },
   "cell_type": "code",
   "source": [
    "model = LogisticRegression(class_weight='balanced')\n",
    "model.fit(X_train_scaled, y_train)\n",
    "y_pred = model.predict(X_test_scaled)"
   ],
   "id": "dcf1e372a31f95d1",
   "outputs": [],
   "execution_count": 13
  },
  {
   "metadata": {
    "ExecuteTime": {
     "end_time": "2024-09-19T20:40:22.250835Z",
     "start_time": "2024-09-19T20:40:22.219525Z"
    }
   },
   "cell_type": "code",
   "source": [
    "print(y_pred)\n",
    "pd.DataFrame(y_pred)"
   ],
   "id": "e9135ca06761d8db",
   "outputs": [
    {
     "name": "stdout",
     "output_type": "stream",
     "text": [
      "[0 0 0 ... 0 0 1]\n"
     ]
    },
    {
     "data": {
      "text/plain": [
       "      0\n",
       "0     0\n",
       "1     0\n",
       "2     0\n",
       "3     0\n",
       "4     0\n",
       "...  ..\n",
       "1017  0\n",
       "1018  0\n",
       "1019  0\n",
       "1020  0\n",
       "1021  1\n",
       "\n",
       "[1022 rows x 1 columns]"
      ],
      "text/html": [
       "<div>\n",
       "<style scoped>\n",
       "    .dataframe tbody tr th:only-of-type {\n",
       "        vertical-align: middle;\n",
       "    }\n",
       "\n",
       "    .dataframe tbody tr th {\n",
       "        vertical-align: top;\n",
       "    }\n",
       "\n",
       "    .dataframe thead th {\n",
       "        text-align: right;\n",
       "    }\n",
       "</style>\n",
       "<table border=\"1\" class=\"dataframe\">\n",
       "  <thead>\n",
       "    <tr style=\"text-align: right;\">\n",
       "      <th></th>\n",
       "      <th>0</th>\n",
       "    </tr>\n",
       "  </thead>\n",
       "  <tbody>\n",
       "    <tr>\n",
       "      <th>0</th>\n",
       "      <td>0</td>\n",
       "    </tr>\n",
       "    <tr>\n",
       "      <th>1</th>\n",
       "      <td>0</td>\n",
       "    </tr>\n",
       "    <tr>\n",
       "      <th>2</th>\n",
       "      <td>0</td>\n",
       "    </tr>\n",
       "    <tr>\n",
       "      <th>3</th>\n",
       "      <td>0</td>\n",
       "    </tr>\n",
       "    <tr>\n",
       "      <th>4</th>\n",
       "      <td>0</td>\n",
       "    </tr>\n",
       "    <tr>\n",
       "      <th>...</th>\n",
       "      <td>...</td>\n",
       "    </tr>\n",
       "    <tr>\n",
       "      <th>1017</th>\n",
       "      <td>0</td>\n",
       "    </tr>\n",
       "    <tr>\n",
       "      <th>1018</th>\n",
       "      <td>0</td>\n",
       "    </tr>\n",
       "    <tr>\n",
       "      <th>1019</th>\n",
       "      <td>0</td>\n",
       "    </tr>\n",
       "    <tr>\n",
       "      <th>1020</th>\n",
       "      <td>0</td>\n",
       "    </tr>\n",
       "    <tr>\n",
       "      <th>1021</th>\n",
       "      <td>1</td>\n",
       "    </tr>\n",
       "  </tbody>\n",
       "</table>\n",
       "<p>1022 rows × 1 columns</p>\n",
       "</div>"
      ]
     },
     "execution_count": 14,
     "metadata": {},
     "output_type": "execute_result"
    }
   ],
   "execution_count": 14
  },
  {
   "metadata": {
    "ExecuteTime": {
     "end_time": "2024-09-19T20:40:23.284902Z",
     "start_time": "2024-09-19T20:40:23.252333Z"
    }
   },
   "cell_type": "code",
   "source": [
    "accuracy = accuracy_score(y_test, y_pred)\n",
    "conf_matrix = confusion_matrix(y_test, y_pred)\n",
    "class_report = classification_report(y_test, y_pred)\n",
    "accuracy, conf_matrix, class_report"
   ],
   "id": "e68254f7f723148e",
   "outputs": [
    {
     "data": {
      "text/plain": [
       "(0.9931506849315068,\n",
       " array([[306,   0],\n",
       "        [  7, 709]]),\n",
       " '              precision    recall  f1-score   support\\n\\n           0       0.98      1.00      0.99       306\\n           1       1.00      0.99      1.00       716\\n\\n    accuracy                           0.99      1022\\n   macro avg       0.99      1.00      0.99      1022\\nweighted avg       0.99      0.99      0.99      1022\\n')"
      ]
     },
     "execution_count": 15,
     "metadata": {},
     "output_type": "execute_result"
    }
   ],
   "execution_count": 15
  },
  {
   "metadata": {
    "ExecuteTime": {
     "end_time": "2024-09-19T20:40:23.959108Z",
     "start_time": "2024-09-19T20:40:23.954748Z"
    }
   },
   "cell_type": "code",
   "source": "",
   "id": "a41d6774d720675d",
   "outputs": [],
   "execution_count": null
  },
  {
   "metadata": {
    "ExecuteTime": {
     "end_time": "2024-09-19T20:40:24.317018Z",
     "start_time": "2024-09-19T20:40:24.303705Z"
    }
   },
   "cell_type": "code",
   "source": [
    "import joblib\n",
    "\n",
    "joblib.dump(scaler, './Models/scaler.joblib')\n",
    "joblib.dump(model, './Models/logistic_regression_model.joblib')\n",
    "joblib.dump(le, './Models/label_encoder.joblib')"
   ],
   "id": "1db930984a4797c7",
   "outputs": [
    {
     "data": {
      "text/plain": [
       "['./Models/label_encoder.joblib']"
      ]
     },
     "execution_count": 16,
     "metadata": {},
     "output_type": "execute_result"
    }
   ],
   "execution_count": 16
  },
  {
   "metadata": {
    "ExecuteTime": {
     "end_time": "2024-09-19T12:18:13.532431Z",
     "start_time": "2024-09-19T12:18:13.528412Z"
    }
   },
   "cell_type": "code",
   "source": "",
   "id": "1dccfb1b0144dc3d",
   "outputs": [],
   "execution_count": null
  },
  {
   "metadata": {},
   "cell_type": "code",
   "outputs": [],
   "execution_count": null,
   "source": "",
   "id": "486b215b665d0160"
  }
 ],
 "metadata": {
  "kernelspec": {
   "display_name": "Python 3",
   "language": "python",
   "name": "python3"
  },
  "language_info": {
   "codemirror_mode": {
    "name": "ipython",
    "version": 2
   },
   "file_extension": ".py",
   "mimetype": "text/x-python",
   "name": "python",
   "nbconvert_exporter": "python",
   "pygments_lexer": "ipython2",
   "version": "2.7.6"
  }
 },
 "nbformat": 4,
 "nbformat_minor": 5
}
