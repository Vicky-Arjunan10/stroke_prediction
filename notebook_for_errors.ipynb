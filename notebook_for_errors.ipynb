{
 "cells": [
  {
   "cell_type": "code",
   "metadata": {
    "ExecuteTime": {
     "end_time": "2024-11-09T05:08:51.429103Z",
     "start_time": "2024-11-09T05:08:51.397815Z"
    }
   },
   "source": [
    "import pandas as pd\n",
    "import numpy as np\n",
    "import random\n",
    "import os\n",
    "import glob"
   ],
   "outputs": [],
   "execution_count": 41
  },
  {
   "cell_type": "code",
   "metadata": {
    "ExecuteTime": {
     "end_time": "2024-11-09T05:08:51.460304Z",
     "start_time": "2024-11-09T05:08:51.429103Z"
    }
   },
   "source": [
    "# Define file paths\n",
    "input_file_path = 'data_from_kaggle/kaggle_data.csv'  # Input file path\n",
    "output_folder = r'D:\\DSP FILES\\airflow_docker_one\\data'  # Output folder\n",
    "output_file_path = os.path.join(output_folder, 'raw_data.csv')  # Output file path"
   ],
   "outputs": [],
   "execution_count": 42
  },
  {
   "cell_type": "code",
   "metadata": {
    "ExecuteTime": {
     "end_time": "2024-11-09T05:08:51.498746Z",
     "start_time": "2024-11-09T05:08:51.483188Z"
    }
   },
   "source": [
    "# Create output directory if it doesn't exist\n",
    "os.makedirs(output_folder, exist_ok=True)\n",
    "\n",
    "# Clear the destination folder by removing any existing files\n",
    "files = glob.glob(f'{output_folder}/*')\n",
    "for f in files:\n",
    "    os.remove(f)"
   ],
   "outputs": [],
   "execution_count": 43
  },
  {
   "cell_type": "code",
   "metadata": {
    "ExecuteTime": {
     "end_time": "2024-11-09T05:08:51.549722Z",
     "start_time": "2024-11-09T05:08:51.516233Z"
    }
   },
   "source": [
    "# Read the dataset\n",
    "df = pd.read_csv(input_file_path)"
   ],
   "outputs": [],
   "execution_count": 44
  },
  {
   "cell_type": "code",
   "metadata": {
    "ExecuteTime": {
     "end_time": "2024-11-09T05:08:51.597668Z",
     "start_time": "2024-11-09T05:08:51.565797Z"
    }
   },
   "source": [
    "# 1. Remove Column 'Hypertension'\n",
    "df.drop('hypertension', axis=1, inplace=True)\n",
    "df.head ()"
   ],
   "outputs": [
    {
     "data": {
      "text/plain": [
       "   gender  age  heart_disease  glucose_level   bmi  stroke\n",
       "0  Female   14              0         139.67  14.1       0\n",
       "1    Male   15              0          70.33  16.9       0\n",
       "2  Female   16              0         139.67  14.1       0\n",
       "3    Male   17              0          70.33  16.9       0\n",
       "4    Male   16              0         114.71  17.4       0"
      ],
      "text/html": [
       "<div>\n",
       "<style scoped>\n",
       "    .dataframe tbody tr th:only-of-type {\n",
       "        vertical-align: middle;\n",
       "    }\n",
       "\n",
       "    .dataframe tbody tr th {\n",
       "        vertical-align: top;\n",
       "    }\n",
       "\n",
       "    .dataframe thead th {\n",
       "        text-align: right;\n",
       "    }\n",
       "</style>\n",
       "<table border=\"1\" class=\"dataframe\">\n",
       "  <thead>\n",
       "    <tr style=\"text-align: right;\">\n",
       "      <th></th>\n",
       "      <th>gender</th>\n",
       "      <th>age</th>\n",
       "      <th>heart_disease</th>\n",
       "      <th>glucose_level</th>\n",
       "      <th>bmi</th>\n",
       "      <th>stroke</th>\n",
       "    </tr>\n",
       "  </thead>\n",
       "  <tbody>\n",
       "    <tr>\n",
       "      <th>0</th>\n",
       "      <td>Female</td>\n",
       "      <td>14</td>\n",
       "      <td>0</td>\n",
       "      <td>139.67</td>\n",
       "      <td>14.1</td>\n",
       "      <td>0</td>\n",
       "    </tr>\n",
       "    <tr>\n",
       "      <th>1</th>\n",
       "      <td>Male</td>\n",
       "      <td>15</td>\n",
       "      <td>0</td>\n",
       "      <td>70.33</td>\n",
       "      <td>16.9</td>\n",
       "      <td>0</td>\n",
       "    </tr>\n",
       "    <tr>\n",
       "      <th>2</th>\n",
       "      <td>Female</td>\n",
       "      <td>16</td>\n",
       "      <td>0</td>\n",
       "      <td>139.67</td>\n",
       "      <td>14.1</td>\n",
       "      <td>0</td>\n",
       "    </tr>\n",
       "    <tr>\n",
       "      <th>3</th>\n",
       "      <td>Male</td>\n",
       "      <td>17</td>\n",
       "      <td>0</td>\n",
       "      <td>70.33</td>\n",
       "      <td>16.9</td>\n",
       "      <td>0</td>\n",
       "    </tr>\n",
       "    <tr>\n",
       "      <th>4</th>\n",
       "      <td>Male</td>\n",
       "      <td>16</td>\n",
       "      <td>0</td>\n",
       "      <td>114.71</td>\n",
       "      <td>17.4</td>\n",
       "      <td>0</td>\n",
       "    </tr>\n",
       "  </tbody>\n",
       "</table>\n",
       "</div>"
      ]
     },
     "execution_count": 45,
     "metadata": {},
     "output_type": "execute_result"
    }
   ],
   "execution_count": 45
  },
  {
   "cell_type": "code",
   "metadata": {
    "ExecuteTime": {
     "end_time": "2024-11-09T05:08:51.674463Z",
     "start_time": "2024-11-09T05:08:51.658781Z"
    }
   },
   "source": [
    "# Ensure 'age' column is treated as object to handle mixed types\n",
    "df['age'] = df['age'].astype(object)"
   ],
   "outputs": [],
   "execution_count": 46
  },
  {
   "cell_type": "code",
   "metadata": {
    "ExecuteTime": {
     "end_time": "2024-11-09T05:08:51.769204Z",
     "start_time": "2024-11-09T05:08:51.737954Z"
    }
   },
   "source": [
    "# 2. Delete 5 rows from 'age' column\n",
    "def delete_rows(df, column_name, num_rows_to_delete):\n",
    "    if len(df) < num_rows_to_delete:\n",
    "        raise ValueError(f\"Not enough rows to delete {num_rows_to_delete} from column {column_name}\")\n",
    "    indices = np.random.choice(df.index, num_rows_to_delete, replace=False)\n",
    "    df.loc[indices, column_name] = np.nan\n",
    "    return df\n",
    "\n",
    "df = delete_rows(df, 'age', 5)\n",
    "df.head()"
   ],
   "outputs": [
    {
     "data": {
      "text/plain": [
       "   gender age  heart_disease  glucose_level   bmi  stroke\n",
       "0  Female  14              0         139.67  14.1       0\n",
       "1    Male  15              0          70.33  16.9       0\n",
       "2  Female  16              0         139.67  14.1       0\n",
       "3    Male  17              0          70.33  16.9       0\n",
       "4    Male  16              0         114.71  17.4       0"
      ],
      "text/html": [
       "<div>\n",
       "<style scoped>\n",
       "    .dataframe tbody tr th:only-of-type {\n",
       "        vertical-align: middle;\n",
       "    }\n",
       "\n",
       "    .dataframe tbody tr th {\n",
       "        vertical-align: top;\n",
       "    }\n",
       "\n",
       "    .dataframe thead th {\n",
       "        text-align: right;\n",
       "    }\n",
       "</style>\n",
       "<table border=\"1\" class=\"dataframe\">\n",
       "  <thead>\n",
       "    <tr style=\"text-align: right;\">\n",
       "      <th></th>\n",
       "      <th>gender</th>\n",
       "      <th>age</th>\n",
       "      <th>heart_disease</th>\n",
       "      <th>glucose_level</th>\n",
       "      <th>bmi</th>\n",
       "      <th>stroke</th>\n",
       "    </tr>\n",
       "  </thead>\n",
       "  <tbody>\n",
       "    <tr>\n",
       "      <th>0</th>\n",
       "      <td>Female</td>\n",
       "      <td>14</td>\n",
       "      <td>0</td>\n",
       "      <td>139.67</td>\n",
       "      <td>14.1</td>\n",
       "      <td>0</td>\n",
       "    </tr>\n",
       "    <tr>\n",
       "      <th>1</th>\n",
       "      <td>Male</td>\n",
       "      <td>15</td>\n",
       "      <td>0</td>\n",
       "      <td>70.33</td>\n",
       "      <td>16.9</td>\n",
       "      <td>0</td>\n",
       "    </tr>\n",
       "    <tr>\n",
       "      <th>2</th>\n",
       "      <td>Female</td>\n",
       "      <td>16</td>\n",
       "      <td>0</td>\n",
       "      <td>139.67</td>\n",
       "      <td>14.1</td>\n",
       "      <td>0</td>\n",
       "    </tr>\n",
       "    <tr>\n",
       "      <th>3</th>\n",
       "      <td>Male</td>\n",
       "      <td>17</td>\n",
       "      <td>0</td>\n",
       "      <td>70.33</td>\n",
       "      <td>16.9</td>\n",
       "      <td>0</td>\n",
       "    </tr>\n",
       "    <tr>\n",
       "      <th>4</th>\n",
       "      <td>Male</td>\n",
       "      <td>16</td>\n",
       "      <td>0</td>\n",
       "      <td>114.71</td>\n",
       "      <td>17.4</td>\n",
       "      <td>0</td>\n",
       "    </tr>\n",
       "  </tbody>\n",
       "</table>\n",
       "</div>"
      ]
     },
     "execution_count": 47,
     "metadata": {},
     "output_type": "execute_result"
    }
   ],
   "execution_count": 47
  },
  {
   "cell_type": "code",
   "metadata": {
    "ExecuteTime": {
     "end_time": "2024-11-09T05:08:51.916035Z",
     "start_time": "2024-11-09T05:08:51.880509Z"
    }
   },
   "source": [
    "# 3. Put 'France', 'Germany', or 'USA' in 5 rows of 'Gender'\n",
    "gender_indices = df.index.difference(df.index[df['age'].isna()])\n",
    "random_countries = random.choices(['France', 'Germany', 'USA'], k=5)\n",
    "df.loc[random.sample(gender_indices.tolist(), 5), 'gender'] = random_countries\n",
    "df.head()"
   ],
   "outputs": [
    {
     "data": {
      "text/plain": [
       "   gender age  heart_disease  glucose_level   bmi  stroke\n",
       "0  Female  14              0         139.67  14.1       0\n",
       "1    Male  15              0          70.33  16.9       0\n",
       "2  Female  16              0         139.67  14.1       0\n",
       "3    Male  17              0          70.33  16.9       0\n",
       "4    Male  16              0         114.71  17.4       0"
      ],
      "text/html": [
       "<div>\n",
       "<style scoped>\n",
       "    .dataframe tbody tr th:only-of-type {\n",
       "        vertical-align: middle;\n",
       "    }\n",
       "\n",
       "    .dataframe tbody tr th {\n",
       "        vertical-align: top;\n",
       "    }\n",
       "\n",
       "    .dataframe thead th {\n",
       "        text-align: right;\n",
       "    }\n",
       "</style>\n",
       "<table border=\"1\" class=\"dataframe\">\n",
       "  <thead>\n",
       "    <tr style=\"text-align: right;\">\n",
       "      <th></th>\n",
       "      <th>gender</th>\n",
       "      <th>age</th>\n",
       "      <th>heart_disease</th>\n",
       "      <th>glucose_level</th>\n",
       "      <th>bmi</th>\n",
       "      <th>stroke</th>\n",
       "    </tr>\n",
       "  </thead>\n",
       "  <tbody>\n",
       "    <tr>\n",
       "      <th>0</th>\n",
       "      <td>Female</td>\n",
       "      <td>14</td>\n",
       "      <td>0</td>\n",
       "      <td>139.67</td>\n",
       "      <td>14.1</td>\n",
       "      <td>0</td>\n",
       "    </tr>\n",
       "    <tr>\n",
       "      <th>1</th>\n",
       "      <td>Male</td>\n",
       "      <td>15</td>\n",
       "      <td>0</td>\n",
       "      <td>70.33</td>\n",
       "      <td>16.9</td>\n",
       "      <td>0</td>\n",
       "    </tr>\n",
       "    <tr>\n",
       "      <th>2</th>\n",
       "      <td>Female</td>\n",
       "      <td>16</td>\n",
       "      <td>0</td>\n",
       "      <td>139.67</td>\n",
       "      <td>14.1</td>\n",
       "      <td>0</td>\n",
       "    </tr>\n",
       "    <tr>\n",
       "      <th>3</th>\n",
       "      <td>Male</td>\n",
       "      <td>17</td>\n",
       "      <td>0</td>\n",
       "      <td>70.33</td>\n",
       "      <td>16.9</td>\n",
       "      <td>0</td>\n",
       "    </tr>\n",
       "    <tr>\n",
       "      <th>4</th>\n",
       "      <td>Male</td>\n",
       "      <td>16</td>\n",
       "      <td>0</td>\n",
       "      <td>114.71</td>\n",
       "      <td>17.4</td>\n",
       "      <td>0</td>\n",
       "    </tr>\n",
       "  </tbody>\n",
       "</table>\n",
       "</div>"
      ]
     },
     "execution_count": 48,
     "metadata": {},
     "output_type": "execute_result"
    }
   ],
   "execution_count": 48
  },
  {
   "cell_type": "code",
   "metadata": {
    "ExecuteTime": {
     "end_time": "2024-11-09T05:08:52.041501Z",
     "start_time": "2024-11-09T05:08:52.025878Z"
    }
   },
   "source": [
    "# 4. Put negative values in 'age' for 5 rows (excluding existing NaNs)\n",
    "negative_age_indices = df.index.difference(df.index[df['age'].isna()])\n",
    "df.loc[random.sample(negative_age_indices.tolist(), 5), 'age'] = [-random.randint(1, 100) for _ in range(5)]"
   ],
   "outputs": [],
   "execution_count": 49
  },
  {
   "cell_type": "code",
   "metadata": {
    "ExecuteTime": {
     "end_time": "2024-11-09T05:08:52.150964Z",
     "start_time": "2024-11-09T05:08:52.135331Z"
    }
   },
   "source": [
    "# 5. Put 'BMI' value more than 100 for 5 rows\n",
    "bmi_indices = df.index.difference(df.index[df['age'].isna()])\n",
    "df.loc[random.sample(bmi_indices.tolist(), 5), 'bmi'] = [random.uniform(101, 150) for _ in range(5)]"
   ],
   "outputs": [],
   "execution_count": 50
  },
  {
   "cell_type": "code",
   "metadata": {
    "ExecuteTime": {
     "end_time": "2024-11-09T05:08:52.245204Z",
     "start_time": "2024-11-09T05:08:52.229557Z"
    }
   },
   "source": [
    "# 6. Put value more than 2 in 'heart_disease' for 10 rows\n",
    "heart_disease_indices = df.index.difference(df.index[df['age'].isna()])\n",
    "df.loc[random.sample(heart_disease_indices.tolist(), 10), 'heart_disease'] = random.choices([3, 4, 5], k=10)"
   ],
   "outputs": [],
   "execution_count": 51
  },
  {
   "cell_type": "code",
   "metadata": {
    "ExecuteTime": {
     "end_time": "2024-11-09T05:08:52.292473Z",
     "start_time": "2024-11-09T05:08:52.260819Z"
    }
   },
   "source": [
    "# 7. Simulate two columns with the same name for 'heart_disease'\n",
    "df['heart_disease_duplicate'] = df['heart_disease']\n",
    "df = pd.concat([df, df[['heart_disease_duplicate']].rename(columns={'heart_disease_duplicate': 'heart_disease'})], axis=1)\n",
    "df.drop(columns='heart_disease_duplicate', inplace=True)"
   ],
   "outputs": [],
   "execution_count": 52
  },
  {
   "cell_type": "code",
   "metadata": {
    "ExecuteTime": {
     "end_time": "2024-11-09T05:08:52.373360Z",
     "start_time": "2024-11-09T05:08:52.330038Z"
    }
   },
   "source": [
    "# 8. Add random numbers to 'gender' column for 5 rows\n",
    "gender_indices = df.index.difference(df.index[df['age'].isna()])\n",
    "random_numbers = [str(random.randint(100, 999)) for _ in range(5)]  # Random numbers as strings\n",
    "df.loc[random.sample(gender_indices.tolist(), 5), 'gender'] = random_numbers"
   ],
   "outputs": [],
   "execution_count": 53
  },
  {
   "cell_type": "code",
   "metadata": {
    "ExecuteTime": {
     "end_time": "2024-11-09T05:08:52.419244Z",
     "start_time": "2024-11-09T05:08:52.404738Z"
    }
   },
   "source": [
    "# 9. Insert dates into 'age' for 5 randomly selected rows (ensure column is treated as object dtype)\n",
    "date_indices = df.index.difference(df.index[df['age'].isna()])\n",
    "selected_date_indices = random.sample(date_indices.tolist(), 5)\n",
    "dates = pd.to_datetime(random.choices(['2023-01-01', '2024-07-15', '2022-12-25'], k=5))\n",
    "df.loc[selected_date_indices, 'age'] = [date.strftime('%Y-%m-%d') for date in dates]"
   ],
   "outputs": [],
   "execution_count": 54
  },
  {
   "cell_type": "code",
   "metadata": {
    "ExecuteTime": {
     "end_time": "2024-11-09T05:08:52.497967Z",
     "start_time": "2024-11-09T05:08:52.450556Z"
    }
   },
   "source": [
    "# 10. Put incorrect decimal values in 'bmi' for 5 rows\n",
    "incorrect_bmi_indices = df.index.difference(df.index[df['age'].isna()])\n",
    "df.loc[random.sample(incorrect_bmi_indices.tolist(), 5), 'bmi'] = [round(random.uniform(20, 40), 7) for _ in range(5)]"
   ],
   "outputs": [],
   "execution_count": 55
  },
  {
   "cell_type": "code",
   "metadata": {
    "ExecuteTime": {
     "end_time": "2024-11-09T05:08:52.559733Z",
     "start_time": "2024-11-09T05:08:52.531189Z"
    }
   },
   "source": [
    "# 11. Insert food names into 'glucose_level' for 10 rows\n",
    "df['glucose_level'] = df['glucose_level'].astype(str)\n",
    "food_names = random.choices(['apple', 'banana', 'pizza', 'burger'], k=10)\n",
    "df.loc[random.sample(incorrect_bmi_indices.tolist(), 10), 'avg_glucose_level'] = food_names"
   ],
   "outputs": [],
   "execution_count": 56
  },
  {
   "cell_type": "code",
   "metadata": {
    "ExecuteTime": {
     "end_time": "2024-11-09T05:08:52.591340Z",
     "start_time": "2024-11-09T05:08:52.578329Z"
    }
   },
   "source": [
    "# 12. Replace numeric values in 'age' with strings for 5 rows\n",
    "age_strings = ['twenty five', 'thirty', 'forty five', 'sixty', 'eighty']\n",
    "df.loc[random.sample(df.index.tolist(), 5), 'age'] = age_strings"
   ],
   "outputs": [],
   "execution_count": 57
  },
  {
   "cell_type": "code",
   "metadata": {
    "ExecuteTime": {
     "end_time": "2024-11-09T05:08:52.670404Z",
     "start_time": "2024-11-09T05:08:52.622960Z"
    }
   },
   "source": [
    "# Save the modified DataFrame with errors to a new CSV file\n",
    "df.to_csv(output_file_path, index=False)\n",
    "print(f\"Dataset with errors has been saved to {output_file_path}\")"
   ],
   "outputs": [
    {
     "name": "stdout",
     "output_type": "stream",
     "text": [
      "Dataset with errors has been saved to D:\\DSP FILES\\airflow_docker_one\\data\\raw_data.csv\n"
     ]
    }
   ],
   "execution_count": 58
  },
  {
   "cell_type": "code",
   "metadata": {
    "ExecuteTime": {
     "end_time": "2024-11-09T05:08:52.718351Z",
     "start_time": "2024-11-09T05:08:52.702353Z"
    }
   },
   "source": [],
   "outputs": [],
   "execution_count": null
  }
 ],
 "metadata": {
  "kernelspec": {
   "display_name": "Python 3",
   "language": "python",
   "name": "python3"
  },
  "language_info": {
   "codemirror_mode": {
    "name": "ipython",
    "version": 3
   },
   "file_extension": ".py",
   "mimetype": "text/x-python",
   "name": "python",
   "nbconvert_exporter": "python",
   "pygments_lexer": "ipython3",
   "version": "3.12.2"
  }
 },
 "nbformat": 4,
 "nbformat_minor": 2
}
